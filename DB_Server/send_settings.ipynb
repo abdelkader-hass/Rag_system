{
 "cells": [
  {
   "cell_type": "code",
   "execution_count": null,
   "id": "bcaf0333",
   "metadata": {},
   "outputs": [],
   "source": [
    "import requests\n",
    "import json\n",
    "\n",
    "API_URL = \"http://localhost:5000/set_settings\"\n",
    "\n",
    "# The settings you want to send\n",
    "settings_data = {\n",
    "    \"llm_type\": \"Bedrock\",\n",
    "\n",
    "    \"neo4j_auth\":[\"neo4j://127.0.0.1:7687\", \"neo4j\", \"neo4jadmin\",\"sav1\"]\n",
    "}\n",
    "\n",
    "try:\n",
    "    # Send JSON data to /set_settings\n",
    "    response = requests.post(API_URL, json=settings_data)\n",
    "\n",
    "    # Check response\n",
    "    if response.status_code == 200:\n",
    "        print(\"✅ Settings saved successfully!\")\n",
    "        print(\"Server response:\", response.json())\n",
    "    else:\n",
    "        print(\"❌ Failed to save settings.\")\n",
    "        print(\"Status:\", response.status_code)\n",
    "        print(\"Error:\", response.text)\n",
    "\n",
    "except requests.exceptions.RequestException as e:\n",
    "    print(\"❌ Request failed:\", e)\n"
   ]
  }
 ],
 "metadata": {
  "language_info": {
   "name": "python"
  }
 },
 "nbformat": 4,
 "nbformat_minor": 5
}
