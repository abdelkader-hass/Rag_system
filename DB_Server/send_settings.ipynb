{
 "cells": [
  {
   "cell_type": "code",
   "execution_count": null,
   "id": "bcaf0333",
   "metadata": {},
   "outputs": [
    {
     "name": "stdout",
     "output_type": "stream",
     "text": [
      "✅ Settings saved successfully!\n",
      "Server response: {'file_path': '/data/settings.json', 'message': 'Settings saved successfully'}\n"
     ]
    }
   ],
   "source": [
    "import requests\n",
    "import json\n",
    "\n",
    "API_URL = \"http://172.31.14.92:5009/set_settings\"\n",
    "\n",
    "# The settings you want to send\n",
    "settings_data = {}\n",
    "\n",
    "try:\n",
    "    # Send JSON data to /set_settings\n",
    "    response = requests.post(API_URL, json=settings_data)\n",
    "\n",
    "    # Check response\n",
    "    if response.status_code == 200:\n",
    "        print(\"✅ Settings saved successfully!\")\n",
    "        print(\"Server response:\", response.json())\n",
    "    else:\n",
    "        print(\"❌ Failed to save settings.\")\n",
    "        print(\"Status:\", response.status_code)\n",
    "        print(\"Error:\", response.text)\n",
    "\n",
    "except requests.exceptions.RequestException as e:\n",
    "    print(\"❌ Request failed:\", e)\n"
   ]
  }
 ],
 "metadata": {
  "kernelspec": {
   "display_name": ".venv",
   "language": "python",
   "name": "python3"
  },
  "language_info": {
   "codemirror_mode": {
    "name": "ipython",
    "version": 3
   },
   "file_extension": ".py",
   "mimetype": "text/x-python",
   "name": "python",
   "nbconvert_exporter": "python",
   "pygments_lexer": "ipython3",
   "version": "3.11.0"
  }
 },
 "nbformat": 4,
 "nbformat_minor": 5
}
